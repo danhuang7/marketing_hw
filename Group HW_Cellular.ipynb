{
 "cells": [
  {
   "cell_type": "code",
   "execution_count": 2,
   "id": "9a80c618",
   "metadata": {},
   "outputs": [],
   "source": [
    "import shared.mba263 as mba263\n",
    "import pandas as pd\n",
    "import numpy as np\n",
    "import matplotlib.pyplot as plt\n",
    "import random as rd\n"
   ]
  },
  {
   "cell_type": "code",
   "execution_count": 3,
   "id": "70803910",
   "metadata": {
    "scrolled": true
   },
   "outputs": [],
   "source": [
    "data = pd.read_csv('shared/cell2cell.csv')\n"
   ]
  },
  {
   "cell_type": "markdown",
   "id": "2e584166",
   "metadata": {},
   "source": [
    "Step 1: Data cleanup"
   ]
  },
  {
   "cell_type": "code",
   "execution_count": 4,
   "id": "48cc1e16",
   "metadata": {},
   "outputs": [
    {
     "name": "stdout",
     "output_type": "stream",
     "text": [
      "<class 'pandas.core.frame.DataFrame'>\n",
      "RangeIndex: 71047 entries, 0 to 71046\n",
      "Data columns (total 70 columns):\n",
      " #   Column    Non-Null Count  Dtype  \n",
      "---  ------    --------------  -----  \n",
      " 0   customer  71047 non-null  int64  \n",
      " 1   calibrat  71047 non-null  int64  \n",
      " 2   churn     71047 non-null  int64  \n",
      " 3   churndep  40000 non-null  float64\n",
      " 4   revenue   70831 non-null  float64\n",
      " 5   mou       70831 non-null  float64\n",
      " 6   recchrge  70831 non-null  float64\n",
      " 7   directas  70831 non-null  float64\n",
      " 8   overage   70831 non-null  float64\n",
      " 9   roam      70831 non-null  float64\n",
      " 10  changem   70545 non-null  float64\n",
      " 11  changer   70545 non-null  float64\n",
      " 12  dropvce   71047 non-null  float64\n",
      " 13  blckvce   71047 non-null  float64\n",
      " 14  unansvce  71047 non-null  float64\n",
      " 15  custcare  71047 non-null  float64\n",
      " 16  threeway  71047 non-null  float64\n",
      " 17  mourec    71047 non-null  float64\n",
      " 18  outcalls  71047 non-null  float64\n",
      " 19  incalls   71047 non-null  float64\n",
      " 20  peakvce   71047 non-null  float64\n",
      " 21  opeakvce  71047 non-null  float64\n",
      " 22  dropblk   71047 non-null  float64\n",
      " 23  callfwdv  71047 non-null  float64\n",
      " 24  callwait  71047 non-null  float64\n",
      " 25  months    71047 non-null  int64  \n",
      " 26  uniqsubs  71047 non-null  int64  \n",
      " 27  actvsubs  71047 non-null  int64  \n",
      " 28  phones    71046 non-null  float64\n",
      " 29  models    71046 non-null  float64\n",
      " 30  eqpdays   71046 non-null  float64\n",
      " 31  age1      69803 non-null  float64\n",
      " 32  age2      69803 non-null  float64\n",
      " 33  children  71047 non-null  int64  \n",
      " 34  credita   71047 non-null  int64  \n",
      " 35  creditaa  71047 non-null  int64  \n",
      " 36  prizmrur  71047 non-null  int64  \n",
      " 37  prizmub   71047 non-null  int64  \n",
      " 38  prizmtwn  71047 non-null  int64  \n",
      " 39  refurb    71047 non-null  int64  \n",
      " 40  webcap    71047 non-null  int64  \n",
      " 41  truck     71047 non-null  int64  \n",
      " 42  rv        71047 non-null  int64  \n",
      " 43  occprof   71047 non-null  int64  \n",
      " 44  occcler   71047 non-null  int64  \n",
      " 45  occcrft   71047 non-null  int64  \n",
      " 46  occstud   71047 non-null  int64  \n",
      " 47  occhmkr   71047 non-null  int64  \n",
      " 48  occret    71047 non-null  int64  \n",
      " 49  occself   71047 non-null  int64  \n",
      " 50  ownrent   71047 non-null  int64  \n",
      " 51  marryun   71047 non-null  int64  \n",
      " 52  marryyes  71047 non-null  int64  \n",
      " 53  mailord   71047 non-null  int64  \n",
      " 54  mailres   71047 non-null  int64  \n",
      " 55  mailflag  71047 non-null  int64  \n",
      " 56  travel    71047 non-null  int64  \n",
      " 57  pcown     71047 non-null  int64  \n",
      " 58  creditcd  71047 non-null  int64  \n",
      " 59  retcalls  71047 non-null  int64  \n",
      " 60  retaccpt  71047 non-null  int64  \n",
      " 61  newcelly  71047 non-null  int64  \n",
      " 62  newcelln  71047 non-null  int64  \n",
      " 63  refer     71047 non-null  int64  \n",
      " 64  incmiss   71047 non-null  int64  \n",
      " 65  income    71047 non-null  int64  \n",
      " 66  mcycle    71047 non-null  int64  \n",
      " 67  setprcm   71047 non-null  int64  \n",
      " 68  setprc    71047 non-null  float64\n",
      " 69  retcall   71047 non-null  int64  \n",
      "dtypes: float64(28), int64(42)\n",
      "memory usage: 37.9 MB\n"
     ]
    }
   ],
   "source": [
    "data.info()#check null value counts"
   ]
  },
  {
   "cell_type": "markdown",
   "id": "3a6680f9",
   "metadata": {},
   "source": [
    "replace missing data with mean\n"
   ]
  },
  {
   "cell_type": "code",
   "execution_count": 45,
   "id": "7837e928",
   "metadata": {},
   "outputs": [],
   "source": [
    "updated_data = data\n",
    "updated_data[['revenue','changem','mou','recchrge','directas','roam','overage','changer','age1','age2']]=updated_data[['revenue','changem','mou','recchrge','directas','roam','overage','changer','age1','age2']].fillna(updated_data[['revenue','changem','mou','recchrge','directas','roam','overage','changer','age1','age2']].mean())"
   ]
  },
  {
   "cell_type": "markdown",
   "id": "4b86ef62",
   "metadata": {},
   "source": [
    "Step 2: Create calibration and validation data sets"
   ]
  },
  {
   "cell_type": "code",
   "execution_count": 46,
   "id": "401b1080",
   "metadata": {},
   "outputs": [],
   "source": [
    "calib = updated_data.loc[updated_data['calibrat'] ==1]\n",
    "valid = updated_data.loc[updated_data['calibrat']==0]"
   ]
  },
  {
   "cell_type": "markdown",
   "id": "c2f673bd",
   "metadata": {},
   "source": [
    "Step 3: Run initial Logit Regression "
   ]
  },
  {
   "cell_type": "markdown",
   "id": "9b3e39df",
   "metadata": {},
   "source": [
    "create initial var list for logit"
   ]
  },
  {
   "cell_type": "code",
   "execution_count": 47,
   "id": "426d3edf",
   "metadata": {},
   "outputs": [
    {
     "data": {
      "text/plain": [
       "66"
      ]
     },
     "execution_count": 47,
     "metadata": {},
     "output_type": "execute_result"
    }
   ],
   "source": [
    "fullList = ['revenue', 'mou', 'recchrge', 'directas', 'overage', 'roam', 'changem', 'changer', 'dropvce', 'blckvce',\n",
    " 'unansvce', 'custcare', 'threeway', 'mourec', 'outcalls', 'incalls', 'peakvce', 'opeakvce', 'dropblk', 'callfwdv', 'callwait',\n",
    " 'months', 'uniqsubs', 'actvsubs', 'phones', 'models', 'eqpdays', 'age1', 'age2', 'children', 'credita', 'creditaa', 'prizmrur',\n",
    " 'prizmub', 'prizmtwn', 'refurb', 'webcap', 'truck', 'rv', 'occprof', 'occcler', 'occcrft', 'occstud', 'occhmkr', 'occret', 'occself',\n",
    " 'ownrent', 'marryun', 'marryyes', 'mailord', 'mailres', 'mailflag', 'travel', 'pcown', 'creditcd', 'retcalls', 'retaccpt', 'newcelly',\n",
    " 'newcelln', 'refer', 'incmiss', 'income', 'mcycle', 'setprcm', 'setprc', 'retcall']\n",
    "len(fullList)"
   ]
  },
  {
   "cell_type": "code",
   "execution_count": 48,
   "id": "0d013f9f",
   "metadata": {},
   "outputs": [
    {
     "name": "stdout",
     "output_type": "stream",
     "text": [
      "Optimization terminated successfully.\n",
      "         Current function value: 0.670845\n",
      "         Iterations 5\n"
     ]
    },
    {
     "data": {
      "text/html": [
       "<table class=\"simpletable\">\n",
       "<caption>Mba263Logit Regression Results</caption>\n",
       "<tr>\n",
       "  <th>Dep. Variable:</th>       <td>churndep</td>     <th>  No. Observations:  </th>  <td> 40000</td> \n",
       "</tr>\n",
       "<tr>\n",
       "  <th>Model:</th>              <td>Mba263Logit</td>   <th>  Df Residuals:      </th>  <td> 39933</td> \n",
       "</tr>\n",
       "<tr>\n",
       "  <th>Method:</th>                 <td>MLE</td>       <th>  Df Model:          </th>  <td>    66</td> \n",
       "</tr>\n",
       "<tr>\n",
       "  <th>Date:</th>            <td>Tue, 05 Apr 2022</td> <th>  Pseudo R-squ.:     </th>  <td>0.03218</td>\n",
       "</tr>\n",
       "<tr>\n",
       "  <th>Time:</th>                <td>03:15:01</td>     <th>  Log-Likelihood:    </th> <td> -26834.</td>\n",
       "</tr>\n",
       "<tr>\n",
       "  <th>converged:</th>             <td>True</td>       <th>  LL-Null:           </th> <td> -27726.</td>\n",
       "</tr>\n",
       "<tr>\n",
       "  <th>Covariance Type:</th>     <td>nonrobust</td>    <th>  LLR p-value:       </th>  <td> 0.000</td> \n",
       "</tr>\n",
       "</table>\n",
       "<table class=\"simpletable\">\n",
       "<tr>\n",
       "      <td></td>        <th>coef</th>     <th>std err</th>      <th>z</th>      <th>P>|z|</th>  <th>[0.025</th>    <th>0.975]</th>  \n",
       "</tr>\n",
       "<tr>\n",
       "  <th>const</th>    <td>    0.1559</td> <td>    0.094</td> <td>    1.658</td> <td> 0.097</td> <td>   -0.028</td> <td>    0.340</td>\n",
       "</tr>\n",
       "<tr>\n",
       "  <th>revenue</th>  <td>    0.0021</td> <td>    0.001</td> <td>    2.742</td> <td> 0.006</td> <td>    0.001</td> <td>    0.004</td>\n",
       "</tr>\n",
       "<tr>\n",
       "  <th>mou</th>      <td>   -0.0003</td> <td> 4.87e-05</td> <td>   -5.278</td> <td> 0.000</td> <td>   -0.000</td> <td>   -0.000</td>\n",
       "</tr>\n",
       "<tr>\n",
       "  <th>recchrge</th> <td>   -0.0035</td> <td>    0.001</td> <td>   -4.012</td> <td> 0.000</td> <td>   -0.005</td> <td>   -0.002</td>\n",
       "</tr>\n",
       "<tr>\n",
       "  <th>directas</th> <td>   -0.0001</td> <td>    0.006</td> <td>   -0.019</td> <td> 0.985</td> <td>   -0.012</td> <td>    0.011</td>\n",
       "</tr>\n",
       "<tr>\n",
       "  <th>overage</th>  <td>    0.0007</td> <td>    0.000</td> <td>    2.635</td> <td> 0.008</td> <td>    0.000</td> <td>    0.001</td>\n",
       "</tr>\n",
       "<tr>\n",
       "  <th>roam</th>     <td>    0.0063</td> <td>    0.002</td> <td>    3.186</td> <td> 0.001</td> <td>    0.002</td> <td>    0.010</td>\n",
       "</tr>\n",
       "<tr>\n",
       "  <th>changem</th>  <td>   -0.0005</td> <td> 5.28e-05</td> <td>   -9.156</td> <td> 0.000</td> <td>   -0.001</td> <td>   -0.000</td>\n",
       "</tr>\n",
       "<tr>\n",
       "  <th>changer</th>  <td>    0.0022</td> <td>    0.000</td> <td>    5.936</td> <td> 0.000</td> <td>    0.001</td> <td>    0.003</td>\n",
       "</tr>\n",
       "<tr>\n",
       "  <th>dropvce</th>  <td>    0.0135</td> <td>    0.006</td> <td>    2.340</td> <td> 0.019</td> <td>    0.002</td> <td>    0.025</td>\n",
       "</tr>\n",
       "<tr>\n",
       "  <th>blckvce</th>  <td>    0.0086</td> <td>    0.006</td> <td>    1.531</td> <td> 0.126</td> <td>   -0.002</td> <td>    0.020</td>\n",
       "</tr>\n",
       "<tr>\n",
       "  <th>unansvce</th> <td>    0.0009</td> <td>    0.000</td> <td>    1.935</td> <td> 0.053</td> <td>-1.11e-05</td> <td>    0.002</td>\n",
       "</tr>\n",
       "<tr>\n",
       "  <th>custcare</th> <td>   -0.0064</td> <td>    0.003</td> <td>   -2.491</td> <td> 0.013</td> <td>   -0.011</td> <td>   -0.001</td>\n",
       "</tr>\n",
       "<tr>\n",
       "  <th>threeway</th> <td>   -0.0297</td> <td>    0.011</td> <td>   -2.674</td> <td> 0.007</td> <td>   -0.052</td> <td>   -0.008</td>\n",
       "</tr>\n",
       "<tr>\n",
       "  <th>mourec</th>   <td>    0.0001</td> <td>    0.000</td> <td>    0.934</td> <td> 0.350</td> <td>   -0.000</td> <td>    0.000</td>\n",
       "</tr>\n",
       "<tr>\n",
       "  <th>outcalls</th> <td>    0.0012</td> <td>    0.001</td> <td>    2.157</td> <td> 0.031</td> <td>    0.000</td> <td>    0.002</td>\n",
       "</tr>\n",
       "<tr>\n",
       "  <th>incalls</th>  <td>   -0.0033</td> <td>    0.001</td> <td>   -3.158</td> <td> 0.002</td> <td>   -0.005</td> <td>   -0.001</td>\n",
       "</tr>\n",
       "<tr>\n",
       "  <th>peakvce</th>  <td>   -0.0007</td> <td>    0.000</td> <td>   -3.392</td> <td> 0.001</td> <td>   -0.001</td> <td>   -0.000</td>\n",
       "</tr>\n",
       "<tr>\n",
       "  <th>opeakvce</th> <td>   -0.0002</td> <td>    0.000</td> <td>   -0.914</td> <td> 0.361</td> <td>   -0.001</td> <td>    0.000</td>\n",
       "</tr>\n",
       "<tr>\n",
       "  <th>dropblk</th>  <td>   -0.0055</td> <td>    0.005</td> <td>   -0.998</td> <td> 0.318</td> <td>   -0.016</td> <td>    0.005</td>\n",
       "</tr>\n",
       "<tr>\n",
       "  <th>callfwdv</th> <td>    0.0025</td> <td>    0.022</td> <td>    0.117</td> <td> 0.907</td> <td>   -0.040</td> <td>    0.045</td>\n",
       "</tr>\n",
       "<tr>\n",
       "  <th>callwait</th> <td>    0.0025</td> <td>    0.003</td> <td>    0.799</td> <td> 0.424</td> <td>   -0.004</td> <td>    0.009</td>\n",
       "</tr>\n",
       "<tr>\n",
       "  <th>months</th>   <td>   -0.0219</td> <td>    0.002</td> <td>  -11.131</td> <td> 0.000</td> <td>   -0.026</td> <td>   -0.018</td>\n",
       "</tr>\n",
       "<tr>\n",
       "  <th>uniqsubs</th> <td>    0.1851</td> <td>    0.020</td> <td>    9.383</td> <td> 0.000</td> <td>    0.146</td> <td>    0.224</td>\n",
       "</tr>\n",
       "<tr>\n",
       "  <th>actvsubs</th> <td>   -0.1952</td> <td>    0.027</td> <td>   -7.134</td> <td> 0.000</td> <td>   -0.249</td> <td>   -0.142</td>\n",
       "</tr>\n",
       "<tr>\n",
       "  <th>phones</th>   <td>    0.0484</td> <td>    0.018</td> <td>    2.695</td> <td> 0.007</td> <td>    0.013</td> <td>    0.084</td>\n",
       "</tr>\n",
       "<tr>\n",
       "  <th>models</th>   <td>    0.0147</td> <td>    0.028</td> <td>    0.535</td> <td> 0.593</td> <td>   -0.039</td> <td>    0.069</td>\n",
       "</tr>\n",
       "<tr>\n",
       "  <th>eqpdays</th>  <td>    0.0015</td> <td> 7.36e-05</td> <td>   20.086</td> <td> 0.000</td> <td>    0.001</td> <td>    0.002</td>\n",
       "</tr>\n",
       "<tr>\n",
       "  <th>age1</th>     <td>   -0.0038</td> <td>    0.001</td> <td>   -4.460</td> <td> 0.000</td> <td>   -0.005</td> <td>   -0.002</td>\n",
       "</tr>\n",
       "<tr>\n",
       "  <th>age2</th>     <td>   -0.0012</td> <td>    0.001</td> <td>   -1.713</td> <td> 0.087</td> <td>   -0.002</td> <td>    0.000</td>\n",
       "</tr>\n",
       "<tr>\n",
       "  <th>children</th> <td>    0.0953</td> <td>    0.028</td> <td>    3.398</td> <td> 0.001</td> <td>    0.040</td> <td>    0.150</td>\n",
       "</tr>\n",
       "<tr>\n",
       "  <th>credita</th>  <td>   -0.1568</td> <td>    0.035</td> <td>   -4.478</td> <td> 0.000</td> <td>   -0.225</td> <td>   -0.088</td>\n",
       "</tr>\n",
       "<tr>\n",
       "  <th>creditaa</th> <td>   -0.3443</td> <td>    0.034</td> <td>  -10.129</td> <td> 0.000</td> <td>   -0.411</td> <td>   -0.278</td>\n",
       "</tr>\n",
       "<tr>\n",
       "  <th>prizmrur</th> <td>    0.0692</td> <td>    0.049</td> <td>    1.411</td> <td> 0.158</td> <td>   -0.027</td> <td>    0.165</td>\n",
       "</tr>\n",
       "<tr>\n",
       "  <th>prizmub</th>  <td>   -0.0381</td> <td>    0.024</td> <td>   -1.580</td> <td> 0.114</td> <td>   -0.085</td> <td>    0.009</td>\n",
       "</tr>\n",
       "<tr>\n",
       "  <th>prizmtwn</th> <td>    0.0427</td> <td>    0.031</td> <td>    1.371</td> <td> 0.170</td> <td>   -0.018</td> <td>    0.104</td>\n",
       "</tr>\n",
       "<tr>\n",
       "  <th>refurb</th>   <td>    0.2331</td> <td>    0.032</td> <td>    7.385</td> <td> 0.000</td> <td>    0.171</td> <td>    0.295</td>\n",
       "</tr>\n",
       "<tr>\n",
       "  <th>webcap</th>   <td>   -0.1465</td> <td>    0.037</td> <td>   -3.945</td> <td> 0.000</td> <td>   -0.219</td> <td>   -0.074</td>\n",
       "</tr>\n",
       "<tr>\n",
       "  <th>truck</th>    <td>    0.0303</td> <td>    0.036</td> <td>    0.845</td> <td> 0.398</td> <td>   -0.040</td> <td>    0.101</td>\n",
       "</tr>\n",
       "<tr>\n",
       "  <th>rv</th>       <td>    0.0069</td> <td>    0.048</td> <td>    0.144</td> <td> 0.885</td> <td>   -0.087</td> <td>    0.101</td>\n",
       "</tr>\n",
       "<tr>\n",
       "  <th>occprof</th>  <td>   -0.0255</td> <td>    0.032</td> <td>   -0.787</td> <td> 0.431</td> <td>   -0.089</td> <td>    0.038</td>\n",
       "</tr>\n",
       "<tr>\n",
       "  <th>occcler</th>  <td>    0.0442</td> <td>    0.075</td> <td>    0.592</td> <td> 0.554</td> <td>   -0.102</td> <td>    0.191</td>\n",
       "</tr>\n",
       "<tr>\n",
       "  <th>occcrft</th>  <td>   -0.0231</td> <td>    0.063</td> <td>   -0.368</td> <td> 0.713</td> <td>   -0.146</td> <td>    0.100</td>\n",
       "</tr>\n",
       "<tr>\n",
       "  <th>occstud</th>  <td>    0.1287</td> <td>    0.121</td> <td>    1.061</td> <td> 0.289</td> <td>   -0.109</td> <td>    0.366</td>\n",
       "</tr>\n",
       "<tr>\n",
       "  <th>occhmkr</th>  <td>    0.2687</td> <td>    0.190</td> <td>    1.418</td> <td> 0.156</td> <td>   -0.103</td> <td>    0.640</td>\n",
       "</tr>\n",
       "<tr>\n",
       "  <th>occret</th>   <td>   -0.0438</td> <td>    0.090</td> <td>   -0.486</td> <td> 0.627</td> <td>   -0.220</td> <td>    0.133</td>\n",
       "</tr>\n",
       "<tr>\n",
       "  <th>occself</th>  <td>   -0.0643</td> <td>    0.080</td> <td>   -0.801</td> <td> 0.423</td> <td>   -0.222</td> <td>    0.093</td>\n",
       "</tr>\n",
       "<tr>\n",
       "  <th>ownrent</th>  <td>   -0.0037</td> <td>    0.042</td> <td>   -0.087</td> <td> 0.931</td> <td>   -0.087</td> <td>    0.080</td>\n",
       "</tr>\n",
       "<tr>\n",
       "  <th>marryun</th>  <td>    0.1017</td> <td>    0.034</td> <td>    2.999</td> <td> 0.003</td> <td>    0.035</td> <td>    0.168</td>\n",
       "</tr>\n",
       "<tr>\n",
       "  <th>marryyes</th> <td>    0.0568</td> <td>    0.032</td> <td>    1.756</td> <td> 0.079</td> <td>   -0.007</td> <td>    0.120</td>\n",
       "</tr>\n",
       "<tr>\n",
       "  <th>mailord</th>  <td>    0.0026</td> <td>    0.085</td> <td>    0.031</td> <td> 0.975</td> <td>   -0.164</td> <td>    0.170</td>\n",
       "</tr>\n",
       "<tr>\n",
       "  <th>mailres</th>  <td>   -0.1262</td> <td>    0.086</td> <td>   -1.474</td> <td> 0.140</td> <td>   -0.294</td> <td>    0.042</td>\n",
       "</tr>\n",
       "<tr>\n",
       "  <th>mailflag</th> <td>   -0.0445</td> <td>    0.084</td> <td>   -0.528</td> <td> 0.597</td> <td>   -0.210</td> <td>    0.121</td>\n",
       "</tr>\n",
       "<tr>\n",
       "  <th>travel</th>   <td>    0.0018</td> <td>    0.047</td> <td>    0.039</td> <td> 0.969</td> <td>   -0.091</td> <td>    0.094</td>\n",
       "</tr>\n",
       "<tr>\n",
       "  <th>pcown</th>    <td>    0.0310</td> <td>    0.031</td> <td>    1.004</td> <td> 0.315</td> <td>   -0.029</td> <td>    0.091</td>\n",
       "</tr>\n",
       "<tr>\n",
       "  <th>creditcd</th> <td>    0.0417</td> <td>    0.044</td> <td>    0.958</td> <td> 0.338</td> <td>   -0.044</td> <td>    0.127</td>\n",
       "</tr>\n",
       "<tr>\n",
       "  <th>retcalls</th> <td>    0.1219</td> <td>    0.180</td> <td>    0.677</td> <td> 0.498</td> <td>   -0.231</td> <td>    0.475</td>\n",
       "</tr>\n",
       "<tr>\n",
       "  <th>retaccpt</th> <td>   -0.2047</td> <td>    0.105</td> <td>   -1.954</td> <td> 0.051</td> <td>   -0.410</td> <td>    0.001</td>\n",
       "</tr>\n",
       "<tr>\n",
       "  <th>newcelly</th> <td>   -0.0677</td> <td>    0.027</td> <td>   -2.509</td> <td> 0.012</td> <td>   -0.121</td> <td>   -0.015</td>\n",
       "</tr>\n",
       "<tr>\n",
       "  <th>newcelln</th> <td>   -0.0034</td> <td>    0.031</td> <td>   -0.110</td> <td> 0.912</td> <td>   -0.065</td> <td>    0.058</td>\n",
       "</tr>\n",
       "<tr>\n",
       "  <th>refer</th>    <td>   -0.0451</td> <td>    0.042</td> <td>   -1.087</td> <td> 0.277</td> <td>   -0.126</td> <td>    0.036</td>\n",
       "</tr>\n",
       "<tr>\n",
       "  <th>incmiss</th>  <td>   -0.1057</td> <td>    0.059</td> <td>   -1.791</td> <td> 0.073</td> <td>   -0.221</td> <td>    0.010</td>\n",
       "</tr>\n",
       "<tr>\n",
       "  <th>income</th>   <td>   -0.0137</td> <td>    0.006</td> <td>   -2.286</td> <td> 0.022</td> <td>   -0.026</td> <td>   -0.002</td>\n",
       "</tr>\n",
       "<tr>\n",
       "  <th>mcycle</th>   <td>    0.1225</td> <td>    0.089</td> <td>    1.382</td> <td> 0.167</td> <td>   -0.051</td> <td>    0.296</td>\n",
       "</tr>\n",
       "<tr>\n",
       "  <th>setprcm</th>  <td>   -0.1062</td> <td>    0.040</td> <td>   -2.656</td> <td> 0.008</td> <td>   -0.185</td> <td>   -0.028</td>\n",
       "</tr>\n",
       "<tr>\n",
       "  <th>setprc</th>   <td>    0.0006</td> <td>    0.000</td> <td>    2.302</td> <td> 0.021</td> <td> 9.53e-05</td> <td>    0.001</td>\n",
       "</tr>\n",
       "<tr>\n",
       "  <th>retcall</th>  <td>    0.7636</td> <td>    0.191</td> <td>    4.007</td> <td> 0.000</td> <td>    0.390</td> <td>    1.137</td>\n",
       "</tr>\n",
       "</table>"
      ],
      "text/plain": [
       "<class 'statsmodels.iolib.summary.Summary'>\n",
       "\"\"\"\n",
       "                        Mba263Logit Regression Results                        \n",
       "==============================================================================\n",
       "Dep. Variable:               churndep   No. Observations:                40000\n",
       "Model:                    Mba263Logit   Df Residuals:                    39933\n",
       "Method:                           MLE   Df Model:                           66\n",
       "Date:                Tue, 05 Apr 2022   Pseudo R-squ.:                 0.03218\n",
       "Time:                        03:15:01   Log-Likelihood:                -26834.\n",
       "converged:                       True   LL-Null:                       -27726.\n",
       "Covariance Type:            nonrobust   LLR p-value:                     0.000\n",
       "==============================================================================\n",
       "                 coef    std err          z      P>|z|      [0.025      0.975]\n",
       "------------------------------------------------------------------------------\n",
       "const          0.1559      0.094      1.658      0.097      -0.028       0.340\n",
       "revenue        0.0021      0.001      2.742      0.006       0.001       0.004\n",
       "mou           -0.0003   4.87e-05     -5.278      0.000      -0.000      -0.000\n",
       "recchrge      -0.0035      0.001     -4.012      0.000      -0.005      -0.002\n",
       "directas      -0.0001      0.006     -0.019      0.985      -0.012       0.011\n",
       "overage        0.0007      0.000      2.635      0.008       0.000       0.001\n",
       "roam           0.0063      0.002      3.186      0.001       0.002       0.010\n",
       "changem       -0.0005   5.28e-05     -9.156      0.000      -0.001      -0.000\n",
       "changer        0.0022      0.000      5.936      0.000       0.001       0.003\n",
       "dropvce        0.0135      0.006      2.340      0.019       0.002       0.025\n",
       "blckvce        0.0086      0.006      1.531      0.126      -0.002       0.020\n",
       "unansvce       0.0009      0.000      1.935      0.053   -1.11e-05       0.002\n",
       "custcare      -0.0064      0.003     -2.491      0.013      -0.011      -0.001\n",
       "threeway      -0.0297      0.011     -2.674      0.007      -0.052      -0.008\n",
       "mourec         0.0001      0.000      0.934      0.350      -0.000       0.000\n",
       "outcalls       0.0012      0.001      2.157      0.031       0.000       0.002\n",
       "incalls       -0.0033      0.001     -3.158      0.002      -0.005      -0.001\n",
       "peakvce       -0.0007      0.000     -3.392      0.001      -0.001      -0.000\n",
       "opeakvce      -0.0002      0.000     -0.914      0.361      -0.001       0.000\n",
       "dropblk       -0.0055      0.005     -0.998      0.318      -0.016       0.005\n",
       "callfwdv       0.0025      0.022      0.117      0.907      -0.040       0.045\n",
       "callwait       0.0025      0.003      0.799      0.424      -0.004       0.009\n",
       "months        -0.0219      0.002    -11.131      0.000      -0.026      -0.018\n",
       "uniqsubs       0.1851      0.020      9.383      0.000       0.146       0.224\n",
       "actvsubs      -0.1952      0.027     -7.134      0.000      -0.249      -0.142\n",
       "phones         0.0484      0.018      2.695      0.007       0.013       0.084\n",
       "models         0.0147      0.028      0.535      0.593      -0.039       0.069\n",
       "eqpdays        0.0015   7.36e-05     20.086      0.000       0.001       0.002\n",
       "age1          -0.0038      0.001     -4.460      0.000      -0.005      -0.002\n",
       "age2          -0.0012      0.001     -1.713      0.087      -0.002       0.000\n",
       "children       0.0953      0.028      3.398      0.001       0.040       0.150\n",
       "credita       -0.1568      0.035     -4.478      0.000      -0.225      -0.088\n",
       "creditaa      -0.3443      0.034    -10.129      0.000      -0.411      -0.278\n",
       "prizmrur       0.0692      0.049      1.411      0.158      -0.027       0.165\n",
       "prizmub       -0.0381      0.024     -1.580      0.114      -0.085       0.009\n",
       "prizmtwn       0.0427      0.031      1.371      0.170      -0.018       0.104\n",
       "refurb         0.2331      0.032      7.385      0.000       0.171       0.295\n",
       "webcap        -0.1465      0.037     -3.945      0.000      -0.219      -0.074\n",
       "truck          0.0303      0.036      0.845      0.398      -0.040       0.101\n",
       "rv             0.0069      0.048      0.144      0.885      -0.087       0.101\n",
       "occprof       -0.0255      0.032     -0.787      0.431      -0.089       0.038\n",
       "occcler        0.0442      0.075      0.592      0.554      -0.102       0.191\n",
       "occcrft       -0.0231      0.063     -0.368      0.713      -0.146       0.100\n",
       "occstud        0.1287      0.121      1.061      0.289      -0.109       0.366\n",
       "occhmkr        0.2687      0.190      1.418      0.156      -0.103       0.640\n",
       "occret        -0.0438      0.090     -0.486      0.627      -0.220       0.133\n",
       "occself       -0.0643      0.080     -0.801      0.423      -0.222       0.093\n",
       "ownrent       -0.0037      0.042     -0.087      0.931      -0.087       0.080\n",
       "marryun        0.1017      0.034      2.999      0.003       0.035       0.168\n",
       "marryyes       0.0568      0.032      1.756      0.079      -0.007       0.120\n",
       "mailord        0.0026      0.085      0.031      0.975      -0.164       0.170\n",
       "mailres       -0.1262      0.086     -1.474      0.140      -0.294       0.042\n",
       "mailflag      -0.0445      0.084     -0.528      0.597      -0.210       0.121\n",
       "travel         0.0018      0.047      0.039      0.969      -0.091       0.094\n",
       "pcown          0.0310      0.031      1.004      0.315      -0.029       0.091\n",
       "creditcd       0.0417      0.044      0.958      0.338      -0.044       0.127\n",
       "retcalls       0.1219      0.180      0.677      0.498      -0.231       0.475\n",
       "retaccpt      -0.2047      0.105     -1.954      0.051      -0.410       0.001\n",
       "newcelly      -0.0677      0.027     -2.509      0.012      -0.121      -0.015\n",
       "newcelln      -0.0034      0.031     -0.110      0.912      -0.065       0.058\n",
       "refer         -0.0451      0.042     -1.087      0.277      -0.126       0.036\n",
       "incmiss       -0.1057      0.059     -1.791      0.073      -0.221       0.010\n",
       "income        -0.0137      0.006     -2.286      0.022      -0.026      -0.002\n",
       "mcycle         0.1225      0.089      1.382      0.167      -0.051       0.296\n",
       "setprcm       -0.1062      0.040     -2.656      0.008      -0.185      -0.028\n",
       "setprc         0.0006      0.000      2.302      0.021    9.53e-05       0.001\n",
       "retcall        0.7636      0.191      4.007      0.000       0.390       1.137\n",
       "==============================================================================\n",
       "\"\"\""
      ]
     },
     "execution_count": 48,
     "metadata": {},
     "output_type": "execute_result"
    }
   ],
   "source": [
    "churn1=mba263.logit(calib['churndep'],calib[fullList])\n",
    "churn1.summary()"
   ]
  },
  {
   "cell_type": "code",
   "execution_count": 12,
   "id": "89b235dc",
   "metadata": {},
   "outputs": [],
   "source": [
    "valid['predict_churn1']=churn1.predict(valid[fullList])\n",
    "calib['predict_churn1']=churn1.predict(calib[fullList])"
   ]
  },
  {
   "cell_type": "markdown",
   "id": "231c240d",
   "metadata": {},
   "source": [
    "Determine Model Lift"
   ]
  },
  {
   "cell_type": "code",
   "execution_count": 13,
   "id": "6082bebf",
   "metadata": {},
   "outputs": [
    {
     "data": {
      "text/plain": [
       "array([175.67523117, 167.49307973, 152.15874685, 142.04069996,\n",
       "       135.30377668, 126.4408543 , 119.16600402, 112.89361991,\n",
       "       107.09877822, 100.        ])"
      ]
     },
     "execution_count": 13,
     "metadata": {},
     "output_type": "execute_result"
    }
   ],
   "source": [
    "mba263.lift(calib['churn'],calib['predict_churn1'])\n",
    "mba263.lift(valid['churn'],valid['predict_churn1'])"
   ]
  },
  {
   "cell_type": "markdown",
   "id": "e9581929",
   "metadata": {},
   "source": [
    "Plot Lift"
   ]
  },
  {
   "cell_type": "code",
   "execution_count": 14,
   "id": "d709de1d",
   "metadata": {
    "scrolled": false
   },
   "outputs": [
    {
     "data": {
      "text/plain": [
       "[<matplotlib.lines.Line2D at 0x7faaafee7d00>]"
      ]
     },
     "execution_count": 14,
     "metadata": {},
     "output_type": "execute_result"
    },
    {
     "data": {
      "image/png": "[encoded data removed]",
      "text/plain": [
       "<Figure size 432x288 with 1 Axes>"
      ]
     },
     "metadata": {
      "needs_background": "light"
     },
     "output_type": "display_data"
    }
   ],
   "source": [
    "plt.plot(mba263.lift(valid['churn'],valid['predict_churn']))\n",
    "plt.plot(mba263.lift(calib['churn'],calib['predict_churn']))"
   ]
  },
  {
   "cell_type": "markdown",
   "id": "1a17eace",
   "metadata": {},
   "source": [
    "Step 4: Determine important variables"
   ]
  },
  {
   "cell_type": "markdown",
   "id": "0e4be7c7",
   "metadata": {},
   "source": [
    "Normalize odds ratio"
   ]
  },
  {
   "cell_type": "code",
   "execution_count": 16,
   "id": "9d9197a2",
   "metadata": {},
   "outputs": [
    {
     "data": {
      "text/plain": [
       "revenue      44.318897\n",
       "mou         535.953234\n",
       "recchrge     24.120226\n",
       "directas      2.346030\n",
       "overage      93.690600\n",
       "               ...    \n",
       "income        3.127723\n",
       "mcycle        0.112496\n",
       "setprcm       0.497041\n",
       "setprc       57.561782\n",
       "retcall       0.158540\n",
       "Length: 66, dtype: float64"
      ]
     },
     "execution_count": 16,
     "metadata": {},
     "output_type": "execute_result"
    }
   ],
   "source": [
    "x_std1=valid[fullList].std()\n",
    "x_std1"
   ]
  },
  {
   "cell_type": "code",
   "execution_count": 17,
   "id": "ff6eb6ac",
   "metadata": {},
   "outputs": [
    {
     "data": {
      "text/plain": [
       "revenue     1.002140\n",
       "mou         0.999743\n",
       "recchrge    0.996512\n",
       "directas    0.999890\n",
       "overage     1.000721\n",
       "              ...   \n",
       "income      0.986356\n",
       "mcycle      1.130355\n",
       "setprcm     0.899214\n",
       "setprc      1.000642\n",
       "retcall     2.146001\n",
       "Name: Odds ratios, Length: 66, dtype: float64"
      ]
     },
     "execution_count": 17,
     "metadata": {},
     "output_type": "execute_result"
    }
   ],
   "source": [
    "odds_ratios1=mba263.odds_ratios(churn1)['Odds ratios']\n",
    "odds_ratios1"
   ]
  },
  {
   "cell_type": "code",
   "execution_count": 18,
   "id": "5f70e072",
   "metadata": {},
   "outputs": [
    {
     "data": {
      "text/plain": [
       "revenue     1.099374\n",
       "mou         0.871370\n",
       "recchrge    0.919180\n",
       "directas    0.999741\n",
       "overage     1.069847\n",
       "              ...   \n",
       "income      0.957943\n",
       "mcycle      1.013880\n",
       "setprcm     0.948567\n",
       "setprc      1.037629\n",
       "retcall     1.128695\n",
       "Length: 66, dtype: float64"
      ]
     },
     "execution_count": 18,
     "metadata": {},
     "output_type": "execute_result"
    }
   ],
   "source": [
    "normalized_odds_ratios1=np.power(odds_ratios1,x_std1)\n",
    "normalized_odds_ratios1"
   ]
  },
  {
   "cell_type": "markdown",
   "id": "7bc9be10",
   "metadata": {},
   "source": [
    "rank importance"
   ]
  },
  {
   "cell_type": "code",
   "execution_count": 98,
   "id": "e722812b",
   "metadata": {},
   "outputs": [],
   "source": [
    "normalized_odds_ratios1[normalized_odds_ratios1<1]=1/normalized_odds_ratios1[normalized_odds_ratios1<1]\n",
    "rank = pd.DataFrame(normalized_odds_ratios1.sort_values(ascending=False)).reset_index()#make sure to reset index\n",
    "rank.to_csv('Ind_Var_Rank')"
   ]
  },
  {
   "cell_type": "markdown",
   "id": "ab039e9d",
   "metadata": {},
   "source": [
    "Step 5: Trim var list to a shorter list"
   ]
  },
  {
   "cell_type": "code",
   "execution_count": 91,
   "id": "540c3776",
   "metadata": {},
   "outputs": [
    {
     "data": {
      "text/plain": [
       "41"
      ]
     },
     "execution_count": 91,
     "metadata": {},
     "output_type": "execute_result"
    }
   ],
   "source": [
    "cutoff = 1.03 #determine cutoff normalized odds ratio\n",
    "varList = rank.loc[rank[0]>cutoff] #create dataframe of the list\n",
    "varList = varList['index'].unique()\n",
    "varList = varList.tolist()#convert numpy array to list\n",
    "len(varList)"
   ]
  },
  {
   "cell_type": "markdown",
   "id": "d23df37c",
   "metadata": {},
   "source": [
    "Step 6. Repeat regression"
   ]
  },
  {
   "cell_type": "code",
   "execution_count": 92,
   "id": "bd0eb79a",
   "metadata": {},
   "outputs": [
    {
     "name": "stdout",
     "output_type": "stream",
     "text": [
      "Optimization terminated successfully.\n",
      "         Current function value: 0.671130\n",
      "         Iterations 5\n"
     ]
    },
    {
     "data": {
      "text/html": [
       "<table class=\"simpletable\">\n",
       "<caption>Mba263Logit Regression Results</caption>\n",
       "<tr>\n",
       "  <th>Dep. Variable:</th>       <td>churndep</td>     <th>  No. Observations:  </th>  <td> 40000</td> \n",
       "</tr>\n",
       "<tr>\n",
       "  <th>Model:</th>              <td>Mba263Logit</td>   <th>  Df Residuals:      </th>  <td> 39958</td> \n",
       "</tr>\n",
       "<tr>\n",
       "  <th>Method:</th>                 <td>MLE</td>       <th>  Df Model:          </th>  <td>    41</td> \n",
       "</tr>\n",
       "<tr>\n",
       "  <th>Date:</th>            <td>Tue, 05 Apr 2022</td> <th>  Pseudo R-squ.:     </th>  <td>0.03176</td>\n",
       "</tr>\n",
       "<tr>\n",
       "  <th>Time:</th>                <td>03:53:37</td>     <th>  Log-Likelihood:    </th> <td> -26845.</td>\n",
       "</tr>\n",
       "<tr>\n",
       "  <th>converged:</th>             <td>True</td>       <th>  LL-Null:           </th> <td> -27726.</td>\n",
       "</tr>\n",
       "<tr>\n",
       "  <th>Covariance Type:</th>     <td>nonrobust</td>    <th>  LLR p-value:       </th>  <td> 0.000</td> \n",
       "</tr>\n",
       "</table>\n",
       "<table class=\"simpletable\">\n",
       "<tr>\n",
       "      <td></td>        <th>coef</th>     <th>std err</th>      <th>z</th>      <th>P>|z|</th>  <th>[0.025</th>    <th>0.975]</th>  \n",
       "</tr>\n",
       "<tr>\n",
       "  <th>const</th>    <td>    0.2082</td> <td>    0.083</td> <td>    2.523</td> <td> 0.012</td> <td>    0.046</td> <td>    0.370</td>\n",
       "</tr>\n",
       "<tr>\n",
       "  <th>eqpdays</th>  <td>    0.0015</td> <td> 7.17e-05</td> <td>   20.497</td> <td> 0.000</td> <td>    0.001</td> <td>    0.002</td>\n",
       "</tr>\n",
       "<tr>\n",
       "  <th>months</th>   <td>   -0.0218</td> <td>    0.002</td> <td>  -11.553</td> <td> 0.000</td> <td>   -0.026</td> <td>   -0.018</td>\n",
       "</tr>\n",
       "<tr>\n",
       "  <th>uniqsubs</th> <td>    0.1863</td> <td>    0.020</td> <td>    9.461</td> <td> 0.000</td> <td>    0.148</td> <td>    0.225</td>\n",
       "</tr>\n",
       "<tr>\n",
       "  <th>mou</th>      <td>   -0.0003</td> <td> 4.82e-05</td> <td>   -5.379</td> <td> 0.000</td> <td>   -0.000</td> <td>   -0.000</td>\n",
       "</tr>\n",
       "<tr>\n",
       "  <th>dropvce</th>  <td>    0.0136</td> <td>    0.006</td> <td>    2.345</td> <td> 0.019</td> <td>    0.002</td> <td>    0.025</td>\n",
       "</tr>\n",
       "<tr>\n",
       "  <th>actvsubs</th> <td>   -0.1956</td> <td>    0.027</td> <td>   -7.154</td> <td> 0.000</td> <td>   -0.249</td> <td>   -0.142</td>\n",
       "</tr>\n",
       "<tr>\n",
       "  <th>retcall</th>  <td>    0.7713</td> <td>    0.190</td> <td>    4.051</td> <td> 0.000</td> <td>    0.398</td> <td>    1.144</td>\n",
       "</tr>\n",
       "<tr>\n",
       "  <th>changem</th>  <td>   -0.0005</td> <td> 5.28e-05</td> <td>   -9.162</td> <td> 0.000</td> <td>   -0.001</td> <td>   -0.000</td>\n",
       "</tr>\n",
       "<tr>\n",
       "  <th>creditaa</th> <td>   -0.3471</td> <td>    0.034</td> <td>  -10.248</td> <td> 0.000</td> <td>   -0.414</td> <td>   -0.281</td>\n",
       "</tr>\n",
       "<tr>\n",
       "  <th>revenue</th>  <td>    0.0021</td> <td>    0.001</td> <td>    2.703</td> <td> 0.007</td> <td>    0.001</td> <td>    0.004</td>\n",
       "</tr>\n",
       "<tr>\n",
       "  <th>blckvce</th>  <td>    0.0091</td> <td>    0.006</td> <td>    1.597</td> <td> 0.110</td> <td>   -0.002</td> <td>    0.020</td>\n",
       "</tr>\n",
       "<tr>\n",
       "  <th>dropblk</th>  <td>   -0.0057</td> <td>    0.006</td> <td>   -1.033</td> <td> 0.302</td> <td>   -0.017</td> <td>    0.005</td>\n",
       "</tr>\n",
       "<tr>\n",
       "  <th>recchrge</th> <td>   -0.0034</td> <td>    0.001</td> <td>   -3.968</td> <td> 0.000</td> <td>   -0.005</td> <td>   -0.002</td>\n",
       "</tr>\n",
       "<tr>\n",
       "  <th>age1</th>     <td>   -0.0038</td> <td>    0.001</td> <td>   -4.546</td> <td> 0.000</td> <td>   -0.005</td> <td>   -0.002</td>\n",
       "</tr>\n",
       "<tr>\n",
       "  <th>changer</th>  <td>    0.0021</td> <td>    0.000</td> <td>    5.915</td> <td> 0.000</td> <td>    0.001</td> <td>    0.003</td>\n",
       "</tr>\n",
       "<tr>\n",
       "  <th>refurb</th>   <td>    0.2325</td> <td>    0.031</td> <td>    7.418</td> <td> 0.000</td> <td>    0.171</td> <td>    0.294</td>\n",
       "</tr>\n",
       "<tr>\n",
       "  <th>peakvce</th>  <td>   -0.0007</td> <td>    0.000</td> <td>   -3.329</td> <td> 0.001</td> <td>   -0.001</td> <td>   -0.000</td>\n",
       "</tr>\n",
       "<tr>\n",
       "  <th>overage</th>  <td>    0.0008</td> <td>    0.000</td> <td>    2.853</td> <td> 0.004</td> <td>    0.000</td> <td>    0.001</td>\n",
       "</tr>\n",
       "<tr>\n",
       "  <th>phones</th>   <td>    0.0556</td> <td>    0.013</td> <td>    4.404</td> <td> 0.000</td> <td>    0.031</td> <td>    0.080</td>\n",
       "</tr>\n",
       "<tr>\n",
       "  <th>roam</th>     <td>    0.0067</td> <td>    0.002</td> <td>    3.384</td> <td> 0.001</td> <td>    0.003</td> <td>    0.011</td>\n",
       "</tr>\n",
       "<tr>\n",
       "  <th>mailres</th>  <td>   -0.1176</td> <td>    0.027</td> <td>   -4.342</td> <td> 0.000</td> <td>   -0.171</td> <td>   -0.065</td>\n",
       "</tr>\n",
       "<tr>\n",
       "  <th>incalls</th>  <td>   -0.0031</td> <td>    0.001</td> <td>   -3.025</td> <td> 0.002</td> <td>   -0.005</td> <td>   -0.001</td>\n",
       "</tr>\n",
       "<tr>\n",
       "  <th>setprcm</th>  <td>   -0.1081</td> <td>    0.040</td> <td>   -2.720</td> <td> 0.007</td> <td>   -0.186</td> <td>   -0.030</td>\n",
       "</tr>\n",
       "<tr>\n",
       "  <th>marryun</th>  <td>    0.1003</td> <td>    0.034</td> <td>    2.981</td> <td> 0.003</td> <td>    0.034</td> <td>    0.166</td>\n",
       "</tr>\n",
       "<tr>\n",
       "  <th>credita</th>  <td>   -0.1564</td> <td>    0.035</td> <td>   -4.474</td> <td> 0.000</td> <td>   -0.225</td> <td>   -0.088</td>\n",
       "</tr>\n",
       "<tr>\n",
       "  <th>incmiss</th>  <td>   -0.1549</td> <td>    0.050</td> <td>   -3.084</td> <td> 0.002</td> <td>   -0.253</td> <td>   -0.056</td>\n",
       "</tr>\n",
       "<tr>\n",
       "  <th>outcalls</th> <td>    0.0012</td> <td>    0.001</td> <td>    2.028</td> <td> 0.043</td> <td> 3.86e-05</td> <td>    0.002</td>\n",
       "</tr>\n",
       "<tr>\n",
       "  <th>income</th>   <td>   -0.0155</td> <td>    0.006</td> <td>   -2.689</td> <td> 0.007</td> <td>   -0.027</td> <td>   -0.004</td>\n",
       "</tr>\n",
       "<tr>\n",
       "  <th>webcap</th>   <td>   -0.1474</td> <td>    0.037</td> <td>   -3.981</td> <td> 0.000</td> <td>   -0.220</td> <td>   -0.075</td>\n",
       "</tr>\n",
       "<tr>\n",
       "  <th>children</th> <td>    0.1040</td> <td>    0.027</td> <td>    3.797</td> <td> 0.000</td> <td>    0.050</td> <td>    0.158</td>\n",
       "</tr>\n",
       "<tr>\n",
       "  <th>threeway</th> <td>   -0.0305</td> <td>    0.011</td> <td>   -2.737</td> <td> 0.006</td> <td>   -0.052</td> <td>   -0.009</td>\n",
       "</tr>\n",
       "<tr>\n",
       "  <th>setprc</th>   <td>    0.0006</td> <td>    0.000</td> <td>    2.250</td> <td> 0.024</td> <td> 8.06e-05</td> <td>    0.001</td>\n",
       "</tr>\n",
       "<tr>\n",
       "  <th>unansvce</th> <td>    0.0009</td> <td>    0.000</td> <td>    2.002</td> <td> 0.045</td> <td> 1.84e-05</td> <td>    0.002</td>\n",
       "</tr>\n",
       "<tr>\n",
       "  <th>custcare</th> <td>   -0.0065</td> <td>    0.003</td> <td>   -2.560</td> <td> 0.010</td> <td>   -0.012</td> <td>   -0.002</td>\n",
       "</tr>\n",
       "<tr>\n",
       "  <th>age2</th>     <td>   -0.0010</td> <td>    0.001</td> <td>   -1.450</td> <td> 0.147</td> <td>   -0.002</td> <td>    0.000</td>\n",
       "</tr>\n",
       "<tr>\n",
       "  <th>marryyes</th> <td>    0.0619</td> <td>    0.032</td> <td>    1.938</td> <td> 0.053</td> <td>   -0.001</td> <td>    0.125</td>\n",
       "</tr>\n",
       "<tr>\n",
       "  <th>newcelly</th> <td>   -0.0678</td> <td>    0.026</td> <td>   -2.587</td> <td> 0.010</td> <td>   -0.119</td> <td>   -0.016</td>\n",
       "</tr>\n",
       "<tr>\n",
       "  <th>retaccpt</th> <td>   -0.2027</td> <td>    0.105</td> <td>   -1.937</td> <td> 0.053</td> <td>   -0.408</td> <td>    0.002</td>\n",
       "</tr>\n",
       "<tr>\n",
       "  <th>opeakvce</th> <td>   -0.0002</td> <td>    0.000</td> <td>   -0.809</td> <td> 0.418</td> <td>   -0.001</td> <td>    0.000</td>\n",
       "</tr>\n",
       "<tr>\n",
       "  <th>retcalls</th> <td>    0.1140</td> <td>    0.180</td> <td>    0.634</td> <td> 0.526</td> <td>   -0.238</td> <td>    0.466</td>\n",
       "</tr>\n",
       "<tr>\n",
       "  <th>mourec</th>   <td>    0.0001</td> <td>    0.000</td> <td>    1.019</td> <td> 0.308</td> <td>   -0.000</td> <td>    0.000</td>\n",
       "</tr>\n",
       "</table>"
      ],
      "text/plain": [
       "<class 'statsmodels.iolib.summary.Summary'>\n",
       "\"\"\"\n",
       "                        Mba263Logit Regression Results                        \n",
       "==============================================================================\n",
       "Dep. Variable:               churndep   No. Observations:                40000\n",
       "Model:                    Mba263Logit   Df Residuals:                    39958\n",
       "Method:                           MLE   Df Model:                           41\n",
       "Date:                Tue, 05 Apr 2022   Pseudo R-squ.:                 0.03176\n",
       "Time:                        03:53:37   Log-Likelihood:                -26845.\n",
       "converged:                       True   LL-Null:                       -27726.\n",
       "Covariance Type:            nonrobust   LLR p-value:                     0.000\n",
       "==============================================================================\n",
       "                 coef    std err          z      P>|z|      [0.025      0.975]\n",
       "------------------------------------------------------------------------------\n",
       "const          0.2082      0.083      2.523      0.012       0.046       0.370\n",
       "eqpdays        0.0015   7.17e-05     20.497      0.000       0.001       0.002\n",
       "months        -0.0218      0.002    -11.553      0.000      -0.026      -0.018\n",
       "uniqsubs       0.1863      0.020      9.461      0.000       0.148       0.225\n",
       "mou           -0.0003   4.82e-05     -5.379      0.000      -0.000      -0.000\n",
       "dropvce        0.0136      0.006      2.345      0.019       0.002       0.025\n",
       "actvsubs      -0.1956      0.027     -7.154      0.000      -0.249      -0.142\n",
       "retcall        0.7713      0.190      4.051      0.000       0.398       1.144\n",
       "changem       -0.0005   5.28e-05     -9.162      0.000      -0.001      -0.000\n",
       "creditaa      -0.3471      0.034    -10.248      0.000      -0.414      -0.281\n",
       "revenue        0.0021      0.001      2.703      0.007       0.001       0.004\n",
       "blckvce        0.0091      0.006      1.597      0.110      -0.002       0.020\n",
       "dropblk       -0.0057      0.006     -1.033      0.302      -0.017       0.005\n",
       "recchrge      -0.0034      0.001     -3.968      0.000      -0.005      -0.002\n",
       "age1          -0.0038      0.001     -4.546      0.000      -0.005      -0.002\n",
       "changer        0.0021      0.000      5.915      0.000       0.001       0.003\n",
       "refurb         0.2325      0.031      7.418      0.000       0.171       0.294\n",
       "peakvce       -0.0007      0.000     -3.329      0.001      -0.001      -0.000\n",
       "overage        0.0008      0.000      2.853      0.004       0.000       0.001\n",
       "phones         0.0556      0.013      4.404      0.000       0.031       0.080\n",
       "roam           0.0067      0.002      3.384      0.001       0.003       0.011\n",
       "mailres       -0.1176      0.027     -4.342      0.000      -0.171      -0.065\n",
       "incalls       -0.0031      0.001     -3.025      0.002      -0.005      -0.001\n",
       "setprcm       -0.1081      0.040     -2.720      0.007      -0.186      -0.030\n",
       "marryun        0.1003      0.034      2.981      0.003       0.034       0.166\n",
       "credita       -0.1564      0.035     -4.474      0.000      -0.225      -0.088\n",
       "incmiss       -0.1549      0.050     -3.084      0.002      -0.253      -0.056\n",
       "outcalls       0.0012      0.001      2.028      0.043    3.86e-05       0.002\n",
       "income        -0.0155      0.006     -2.689      0.007      -0.027      -0.004\n",
       "webcap        -0.1474      0.037     -3.981      0.000      -0.220      -0.075\n",
       "children       0.1040      0.027      3.797      0.000       0.050       0.158\n",
       "threeway      -0.0305      0.011     -2.737      0.006      -0.052      -0.009\n",
       "setprc         0.0006      0.000      2.250      0.024    8.06e-05       0.001\n",
       "unansvce       0.0009      0.000      2.002      0.045    1.84e-05       0.002\n",
       "custcare      -0.0065      0.003     -2.560      0.010      -0.012      -0.002\n",
       "age2          -0.0010      0.001     -1.450      0.147      -0.002       0.000\n",
       "marryyes       0.0619      0.032      1.938      0.053      -0.001       0.125\n",
       "newcelly      -0.0678      0.026     -2.587      0.010      -0.119      -0.016\n",
       "retaccpt      -0.2027      0.105     -1.937      0.053      -0.408       0.002\n",
       "opeakvce      -0.0002      0.000     -0.809      0.418      -0.001       0.000\n",
       "retcalls       0.1140      0.180      0.634      0.526      -0.238       0.466\n",
       "mourec         0.0001      0.000      1.019      0.308      -0.000       0.000\n",
       "==============================================================================\n",
       "\"\"\""
      ]
     },
     "execution_count": 92,
     "metadata": {},
     "output_type": "execute_result"
    }
   ],
   "source": [
    "churn2=mba263.logit(calib['churndep'],calib[varList])\n",
    "churn2.summary()"
   ]
  },
  {
   "cell_type": "code",
   "execution_count": 93,
   "id": "cb756c4a",
   "metadata": {},
   "outputs": [],
   "source": [
    "valid['predict_churn2']=churn2.predict(valid[varList])\n",
    "calib['predict_churn2']=churn2.predict(calib[varList])"
   ]
  },
  {
   "cell_type": "code",
   "execution_count": 94,
   "id": "84fb0f3d",
   "metadata": {
    "scrolled": true
   },
   "outputs": [
    {
     "data": {
      "text/plain": [
       "array([180.60070494, 161.74576817, 150.51674598, 140.39861095,\n",
       "       133.99014778, 126.4408543 , 119.40058277, 111.86731428,\n",
       "       106.55142501, 100.        ])"
      ]
     },
     "execution_count": 94,
     "metadata": {},
     "output_type": "execute_result"
    }
   ],
   "source": [
    "mba263.lift(calib['churn'],calib['predict_churn2'])\n",
    "mba263.lift(valid['churn'],valid['predict_churn2'])"
   ]
  },
  {
   "cell_type": "code",
   "execution_count": 95,
   "id": "767762ef",
   "metadata": {},
   "outputs": [],
   "source": [
    "calib['grading']=10-mba263.ntile(calib['predict_churn2'],10)\n",
    "valid['grading']=10-mba263.ntile(valid['predict_churn2'],10)"
   ]
  },
  {
   "cell_type": "code",
   "execution_count": 96,
   "id": "613afde9",
   "metadata": {},
   "outputs": [
    {
     "data": {
      "text/plain": [
       "<AxesSubplot:xlabel='grading'>"
      ]
     },
     "execution_count": 96,
     "metadata": {},
     "output_type": "execute_result"
    },
    {
     "data": {
      "image/png": "[encoded data removed]",
      "text/plain": [
       "<Figure size 432x288 with 1 Axes>"
      ]
     },
     "metadata": {
      "needs_background": "light"
     },
     "output_type": "display_data"
    },
    {
     "data": {
      "image/png": "[encoded data removed]",
      "text/plain": [
       "<Figure size 432x288 with 1 Axes>"
      ]
     },
     "metadata": {
      "needs_background": "light"
     },
     "output_type": "display_data"
    }
   ],
   "source": [
    "calib[ ['churn','grading'] ].groupby('grading').mean().plot(kind='bar')\n",
    "valid[ ['churn','grading'] ].groupby('grading').mean().plot(kind='bar')"
   ]
  },
  {
   "cell_type": "markdown",
   "id": "4fc13b9c",
   "metadata": {},
   "source": [
    "Better lift achieved than initial model. And constant is statistically significant. Keep the new varList"
   ]
  }
 ],
 "metadata": {
  "kernelspec": {
   "display_name": "Python 3 (ipykernel)",
   "language": "python",
   "name": "python3"
  },
  "language_info": {
   "codemirror_mode": {
    "name": "ipython",
    "version": 3
   },
   "file_extension": ".py",
   "mimetype": "text/x-python",
   "name": "python",
   "nbconvert_exporter": "python",
   "pygments_lexer": "ipython3",
   "version": "3.9.6"
  }
 },
 "nbformat": 4,
 "nbformat_minor": 5
}
